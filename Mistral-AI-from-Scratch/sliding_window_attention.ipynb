{
 "cells": [
  {
   "cell_type": "code",
   "execution_count": 1,
   "id": "1902a774",
   "metadata": {},
   "outputs": [
    {
     "data": {
      "text/plain": [
       "[{'the'},\n",
       " {'quick'},\n",
       " {'brown'},\n",
       " {'fox'},\n",
       " {'jumps'},\n",
       " {'over'},\n",
       " {'the'},\n",
       " {'lazy'},\n",
       " {'dog'}]"
      ]
     },
     "execution_count": 1,
     "metadata": {},
     "output_type": "execute_result"
    }
   ],
   "source": [
    "print_order = ['the', 'quick', 'brown', 'fox', 'jumps', 'over', 'the', 'lazy', 'dog']\n",
    "sequence = [{print_order[i]} for i in range(len(print_order))]\n",
    "sequence"
   ]
  },
  {
   "cell_type": "code",
   "execution_count": 2,
   "id": "00ad4945",
   "metadata": {},
   "outputs": [],
   "source": [
    "window = 3  # Number of tokens to the left each token can attend to\n",
    "\n",
    "def compute_attention_matrix(tokens: list[set[str]], window_size: int):\n",
    "    length = len(tokens)\n",
    "    matrix = [[None for _ in range(length)] for _ in range(length)]\n",
    "    \n",
    "    for current_idx, current_set in enumerate(tokens):\n",
    "        for past_idx in range(current_idx + 1):  # Only look backward\n",
    "            if current_idx - past_idx >= window_size:\n",
    "                continue  # Out of sliding window range\n",
    "            \n",
    "            combined = set()\n",
    "            combined.update(current_set)\n",
    "            combined.update(tokens[past_idx])\n",
    "            matrix[current_idx][past_idx] = combined\n",
    "            \n",
    "    return matrix\n",
    "\n",
    "def apply_attention(attention_matrix: list[list[set]], value_seq: list[set[str]]) -> list[set[str]]:\n",
    "    output = [set() for _ in value_seq]\n",
    "    \n",
    "    for i, row in enumerate(attention_matrix):\n",
    "        for j, attention_set in enumerate(row):\n",
    "            if attention_set is not None:\n",
    "                output[i].update(value_seq[j])\n",
    "                output[i].update(attention_set)\n",
    "                \n",
    "    return output\n",
    "\n",
    "def show_attention_matrix(matrix: list[list[set[str]]]):\n",
    "    for row in matrix:\n",
    "        for cell in row:\n",
    "            if cell is None:\n",
    "                print(\"None\", end=\"\\t\")\n",
    "            else:\n",
    "                print(sorted(cell, key=lambda x: print_order.index(x)), end=\"\\t\")\n",
    "        print()\n",
    "\n",
    "def show_token_sets(data: list[set[str]]):\n",
    "    for idx, token_set in enumerate(data):\n",
    "        print(f\"{idx}: {sorted(token_set, key=lambda x: print_order.index(x))}\")\n",
    "\n",
    "def transformer_block(tokens: list[set[str]], layer_id: int) -> list[set[str]]:\n",
    "    print(f\"\\nLayer {layer_id} — Input:\")\n",
    "    show_token_sets(tokens)\n",
    "    \n",
    "    attention = compute_attention_matrix(tokens, window)\n",
    "    \n",
    "    print(f\"\\nLayer {layer_id} — Attention Scores:\")\n",
    "    show_attention_matrix(attention)\n",
    "    \n",
    "    updated = apply_attention(attention, tokens)\n",
    "    \n",
    "    print(f\"\\nLayer {layer_id} — Output:\")\n",
    "    show_token_sets(updated)\n",
    "    \n",
    "    return updated"
   ]
  },
  {
   "cell_type": "code",
   "execution_count": 3,
   "id": "54c5a82d",
   "metadata": {},
   "outputs": [
    {
     "name": "stdout",
     "output_type": "stream",
     "text": [
      "\n",
      "Layer 1 — Input:\n",
      "0: ['the']\n",
      "1: ['quick']\n",
      "2: ['brown']\n",
      "3: ['fox']\n",
      "4: ['jumps']\n",
      "5: ['over']\n",
      "6: ['the']\n",
      "7: ['lazy']\n",
      "8: ['dog']\n",
      "\n",
      "Layer 1 — Attention Scores:\n",
      "['the']\tNone\tNone\tNone\tNone\tNone\tNone\tNone\tNone\t\n",
      "['the', 'quick']\t['quick']\tNone\tNone\tNone\tNone\tNone\tNone\tNone\t\n",
      "['the', 'brown']\t['quick', 'brown']\t['brown']\tNone\tNone\tNone\tNone\tNone\tNone\t\n",
      "None\t['quick', 'fox']\t['brown', 'fox']\t['fox']\tNone\tNone\tNone\tNone\tNone\t\n",
      "None\tNone\t['brown', 'jumps']\t['fox', 'jumps']\t['jumps']\tNone\tNone\tNone\tNone\t\n",
      "None\tNone\tNone\t['fox', 'over']\t['jumps', 'over']\t['over']\tNone\tNone\tNone\t\n",
      "None\tNone\tNone\tNone\t['the', 'jumps']\t['the', 'over']\t['the']\tNone\tNone\t\n",
      "None\tNone\tNone\tNone\tNone\t['over', 'lazy']\t['the', 'lazy']\t['lazy']\tNone\t\n",
      "None\tNone\tNone\tNone\tNone\tNone\t['the', 'dog']\t['lazy', 'dog']\t['dog']\t\n",
      "\n",
      "Layer 1 — Output:\n",
      "0: ['the']\n",
      "1: ['the', 'quick']\n",
      "2: ['the', 'quick', 'brown']\n",
      "3: ['quick', 'brown', 'fox']\n",
      "4: ['brown', 'fox', 'jumps']\n",
      "5: ['fox', 'jumps', 'over']\n",
      "6: ['the', 'jumps', 'over']\n",
      "7: ['the', 'over', 'lazy']\n",
      "8: ['the', 'lazy', 'dog']\n"
     ]
    }
   ],
   "source": [
    "output_layer_1 = transformer_block(sequence, 1)"
   ]
  },
  {
   "cell_type": "code",
   "execution_count": 4,
   "id": "dea88e85",
   "metadata": {},
   "outputs": [
    {
     "name": "stdout",
     "output_type": "stream",
     "text": [
      "\n",
      "Layer 2 — Input:\n",
      "0: ['the']\n",
      "1: ['the', 'quick']\n",
      "2: ['the', 'quick', 'brown']\n",
      "3: ['quick', 'brown', 'fox']\n",
      "4: ['brown', 'fox', 'jumps']\n",
      "5: ['fox', 'jumps', 'over']\n",
      "6: ['the', 'jumps', 'over']\n",
      "7: ['the', 'over', 'lazy']\n",
      "8: ['the', 'lazy', 'dog']\n",
      "\n",
      "Layer 2 — Attention Scores:\n",
      "['the']\tNone\tNone\tNone\tNone\tNone\tNone\tNone\tNone\t\n",
      "['the', 'quick']\t['the', 'quick']\tNone\tNone\tNone\tNone\tNone\tNone\tNone\t\n",
      "['the', 'quick', 'brown']\t['the', 'quick', 'brown']\t['the', 'quick', 'brown']\tNone\tNone\tNone\tNone\tNone\tNone\t\n",
      "None\t['the', 'quick', 'brown', 'fox']\t['the', 'quick', 'brown', 'fox']\t['quick', 'brown', 'fox']\tNone\tNone\tNone\tNone\tNone\t\n",
      "None\tNone\t['the', 'quick', 'brown', 'fox', 'jumps']\t['quick', 'brown', 'fox', 'jumps']\t['brown', 'fox', 'jumps']\tNone\tNone\tNone\tNone\t\n",
      "None\tNone\tNone\t['quick', 'brown', 'fox', 'jumps', 'over']\t['brown', 'fox', 'jumps', 'over']\t['fox', 'jumps', 'over']\tNone\tNone\tNone\t\n",
      "None\tNone\tNone\tNone\t['the', 'brown', 'fox', 'jumps', 'over']\t['the', 'fox', 'jumps', 'over']\t['the', 'jumps', 'over']\tNone\tNone\t\n",
      "None\tNone\tNone\tNone\tNone\t['the', 'fox', 'jumps', 'over', 'lazy']\t['the', 'jumps', 'over', 'lazy']\t['the', 'over', 'lazy']\tNone\t\n",
      "None\tNone\tNone\tNone\tNone\tNone\t['the', 'jumps', 'over', 'lazy', 'dog']\t['the', 'over', 'lazy', 'dog']\t['the', 'lazy', 'dog']\t\n",
      "\n",
      "Layer 2 — Output:\n",
      "0: ['the']\n",
      "1: ['the', 'quick']\n",
      "2: ['the', 'quick', 'brown']\n",
      "3: ['the', 'quick', 'brown', 'fox']\n",
      "4: ['the', 'quick', 'brown', 'fox', 'jumps']\n",
      "5: ['quick', 'brown', 'fox', 'jumps', 'over']\n",
      "6: ['the', 'brown', 'fox', 'jumps', 'over']\n",
      "7: ['the', 'fox', 'jumps', 'over', 'lazy']\n",
      "8: ['the', 'jumps', 'over', 'lazy', 'dog']\n"
     ]
    }
   ],
   "source": [
    "output_layer_2 = transformer_block(output_layer_1, 2)"
   ]
  },
  {
   "cell_type": "code",
   "execution_count": 5,
   "id": "1915734a",
   "metadata": {},
   "outputs": [
    {
     "name": "stdout",
     "output_type": "stream",
     "text": [
      "\n",
      "Layer 3 — Input:\n",
      "0: ['the']\n",
      "1: ['the', 'quick']\n",
      "2: ['the', 'quick', 'brown']\n",
      "3: ['the', 'quick', 'brown', 'fox']\n",
      "4: ['the', 'quick', 'brown', 'fox', 'jumps']\n",
      "5: ['quick', 'brown', 'fox', 'jumps', 'over']\n",
      "6: ['the', 'brown', 'fox', 'jumps', 'over']\n",
      "7: ['the', 'fox', 'jumps', 'over', 'lazy']\n",
      "8: ['the', 'jumps', 'over', 'lazy', 'dog']\n",
      "\n",
      "Layer 3 — Attention Scores:\n",
      "['the']\tNone\tNone\tNone\tNone\tNone\tNone\tNone\tNone\t\n",
      "['the', 'quick']\t['the', 'quick']\tNone\tNone\tNone\tNone\tNone\tNone\tNone\t\n",
      "['the', 'quick', 'brown']\t['the', 'quick', 'brown']\t['the', 'quick', 'brown']\tNone\tNone\tNone\tNone\tNone\tNone\t\n",
      "None\t['the', 'quick', 'brown', 'fox']\t['the', 'quick', 'brown', 'fox']\t['the', 'quick', 'brown', 'fox']\tNone\tNone\tNone\tNone\tNone\t\n",
      "None\tNone\t['the', 'quick', 'brown', 'fox', 'jumps']\t['the', 'quick', 'brown', 'fox', 'jumps']\t['the', 'quick', 'brown', 'fox', 'jumps']\tNone\tNone\tNone\tNone\t\n",
      "None\tNone\tNone\t['the', 'quick', 'brown', 'fox', 'jumps', 'over']\t['the', 'quick', 'brown', 'fox', 'jumps', 'over']\t['quick', 'brown', 'fox', 'jumps', 'over']\tNone\tNone\tNone\t\n",
      "None\tNone\tNone\tNone\t['the', 'quick', 'brown', 'fox', 'jumps', 'over']\t['the', 'quick', 'brown', 'fox', 'jumps', 'over']\t['the', 'brown', 'fox', 'jumps', 'over']\tNone\tNone\t\n",
      "None\tNone\tNone\tNone\tNone\t['the', 'quick', 'brown', 'fox', 'jumps', 'over', 'lazy']\t['the', 'brown', 'fox', 'jumps', 'over', 'lazy']\t['the', 'fox', 'jumps', 'over', 'lazy']\tNone\t\n",
      "None\tNone\tNone\tNone\tNone\tNone\t['the', 'brown', 'fox', 'jumps', 'over', 'lazy', 'dog']\t['the', 'fox', 'jumps', 'over', 'lazy', 'dog']\t['the', 'jumps', 'over', 'lazy', 'dog']\t\n",
      "\n",
      "Layer 3 — Output:\n",
      "0: ['the']\n",
      "1: ['the', 'quick']\n",
      "2: ['the', 'quick', 'brown']\n",
      "3: ['the', 'quick', 'brown', 'fox']\n",
      "4: ['the', 'quick', 'brown', 'fox', 'jumps']\n",
      "5: ['the', 'quick', 'brown', 'fox', 'jumps', 'over']\n",
      "6: ['the', 'quick', 'brown', 'fox', 'jumps', 'over']\n",
      "7: ['the', 'quick', 'brown', 'fox', 'jumps', 'over', 'lazy']\n",
      "8: ['the', 'brown', 'fox', 'jumps', 'over', 'lazy', 'dog']\n"
     ]
    }
   ],
   "source": [
    "output_layer_3 = transformer_block(output_layer_2, 3)"
   ]
  },
  {
   "cell_type": "code",
   "execution_count": 6,
   "id": "9f1e5bed",
   "metadata": {},
   "outputs": [
    {
     "name": "stdout",
     "output_type": "stream",
     "text": [
      "\n",
      "Layer 4 — Input:\n",
      "0: ['the']\n",
      "1: ['the', 'quick']\n",
      "2: ['the', 'quick', 'brown']\n",
      "3: ['the', 'quick', 'brown', 'fox']\n",
      "4: ['the', 'quick', 'brown', 'fox', 'jumps']\n",
      "5: ['the', 'quick', 'brown', 'fox', 'jumps', 'over']\n",
      "6: ['the', 'quick', 'brown', 'fox', 'jumps', 'over']\n",
      "7: ['the', 'quick', 'brown', 'fox', 'jumps', 'over', 'lazy']\n",
      "8: ['the', 'brown', 'fox', 'jumps', 'over', 'lazy', 'dog']\n",
      "\n",
      "Layer 4 — Attention Scores:\n",
      "['the']\tNone\tNone\tNone\tNone\tNone\tNone\tNone\tNone\t\n",
      "['the', 'quick']\t['the', 'quick']\tNone\tNone\tNone\tNone\tNone\tNone\tNone\t\n",
      "['the', 'quick', 'brown']\t['the', 'quick', 'brown']\t['the', 'quick', 'brown']\tNone\tNone\tNone\tNone\tNone\tNone\t\n",
      "None\t['the', 'quick', 'brown', 'fox']\t['the', 'quick', 'brown', 'fox']\t['the', 'quick', 'brown', 'fox']\tNone\tNone\tNone\tNone\tNone\t\n",
      "None\tNone\t['the', 'quick', 'brown', 'fox', 'jumps']\t['the', 'quick', 'brown', 'fox', 'jumps']\t['the', 'quick', 'brown', 'fox', 'jumps']\tNone\tNone\tNone\tNone\t\n",
      "None\tNone\tNone\t['the', 'quick', 'brown', 'fox', 'jumps', 'over']\t['the', 'quick', 'brown', 'fox', 'jumps', 'over']\t['the', 'quick', 'brown', 'fox', 'jumps', 'over']\tNone\tNone\tNone\t\n",
      "None\tNone\tNone\tNone\t['the', 'quick', 'brown', 'fox', 'jumps', 'over']\t['the', 'quick', 'brown', 'fox', 'jumps', 'over']\t['the', 'quick', 'brown', 'fox', 'jumps', 'over']\tNone\tNone\t\n",
      "None\tNone\tNone\tNone\tNone\t['the', 'quick', 'brown', 'fox', 'jumps', 'over', 'lazy']\t['the', 'quick', 'brown', 'fox', 'jumps', 'over', 'lazy']\t['the', 'quick', 'brown', 'fox', 'jumps', 'over', 'lazy']\tNone\t\n",
      "None\tNone\tNone\tNone\tNone\tNone\t['the', 'quick', 'brown', 'fox', 'jumps', 'over', 'lazy', 'dog']\t['the', 'quick', 'brown', 'fox', 'jumps', 'over', 'lazy', 'dog']\t['the', 'brown', 'fox', 'jumps', 'over', 'lazy', 'dog']\t\n",
      "\n",
      "Layer 4 — Output:\n",
      "0: ['the']\n",
      "1: ['the', 'quick']\n",
      "2: ['the', 'quick', 'brown']\n",
      "3: ['the', 'quick', 'brown', 'fox']\n",
      "4: ['the', 'quick', 'brown', 'fox', 'jumps']\n",
      "5: ['the', 'quick', 'brown', 'fox', 'jumps', 'over']\n",
      "6: ['the', 'quick', 'brown', 'fox', 'jumps', 'over']\n",
      "7: ['the', 'quick', 'brown', 'fox', 'jumps', 'over', 'lazy']\n",
      "8: ['the', 'quick', 'brown', 'fox', 'jumps', 'over', 'lazy', 'dog']\n"
     ]
    }
   ],
   "source": [
    "output_layer_4 = transformer_block(output_layer_3, 4)"
   ]
  },
  {
   "cell_type": "code",
   "execution_count": 7,
   "id": "b87cdb2f",
   "metadata": {},
   "outputs": [
    {
     "name": "stdout",
     "output_type": "stream",
     "text": [
      "\n",
      "Layer 5 — Input:\n",
      "0: ['the']\n",
      "1: ['the', 'quick']\n",
      "2: ['the', 'quick', 'brown']\n",
      "3: ['the', 'quick', 'brown', 'fox']\n",
      "4: ['the', 'quick', 'brown', 'fox', 'jumps']\n",
      "5: ['the', 'quick', 'brown', 'fox', 'jumps', 'over']\n",
      "6: ['the', 'quick', 'brown', 'fox', 'jumps', 'over']\n",
      "7: ['the', 'quick', 'brown', 'fox', 'jumps', 'over', 'lazy']\n",
      "8: ['the', 'quick', 'brown', 'fox', 'jumps', 'over', 'lazy', 'dog']\n",
      "\n",
      "Layer 5 — Attention Scores:\n",
      "['the']\tNone\tNone\tNone\tNone\tNone\tNone\tNone\tNone\t\n",
      "['the', 'quick']\t['the', 'quick']\tNone\tNone\tNone\tNone\tNone\tNone\tNone\t\n",
      "['the', 'quick', 'brown']\t['the', 'quick', 'brown']\t['the', 'quick', 'brown']\tNone\tNone\tNone\tNone\tNone\tNone\t\n",
      "None\t['the', 'quick', 'brown', 'fox']\t['the', 'quick', 'brown', 'fox']\t['the', 'quick', 'brown', 'fox']\tNone\tNone\tNone\tNone\tNone\t\n",
      "None\tNone\t['the', 'quick', 'brown', 'fox', 'jumps']\t['the', 'quick', 'brown', 'fox', 'jumps']\t['the', 'quick', 'brown', 'fox', 'jumps']\tNone\tNone\tNone\tNone\t\n",
      "None\tNone\tNone\t['the', 'quick', 'brown', 'fox', 'jumps', 'over']\t['the', 'quick', 'brown', 'fox', 'jumps', 'over']\t['the', 'quick', 'brown', 'fox', 'jumps', 'over']\tNone\tNone\tNone\t\n",
      "None\tNone\tNone\tNone\t['the', 'quick', 'brown', 'fox', 'jumps', 'over']\t['the', 'quick', 'brown', 'fox', 'jumps', 'over']\t['the', 'quick', 'brown', 'fox', 'jumps', 'over']\tNone\tNone\t\n",
      "None\tNone\tNone\tNone\tNone\t['the', 'quick', 'brown', 'fox', 'jumps', 'over', 'lazy']\t['the', 'quick', 'brown', 'fox', 'jumps', 'over', 'lazy']\t['the', 'quick', 'brown', 'fox', 'jumps', 'over', 'lazy']\tNone\t\n",
      "None\tNone\tNone\tNone\tNone\tNone\t['the', 'quick', 'brown', 'fox', 'jumps', 'over', 'lazy', 'dog']\t['the', 'quick', 'brown', 'fox', 'jumps', 'over', 'lazy', 'dog']\t['the', 'quick', 'brown', 'fox', 'jumps', 'over', 'lazy', 'dog']\t\n",
      "\n",
      "Layer 5 — Output:\n",
      "0: ['the']\n",
      "1: ['the', 'quick']\n",
      "2: ['the', 'quick', 'brown']\n",
      "3: ['the', 'quick', 'brown', 'fox']\n",
      "4: ['the', 'quick', 'brown', 'fox', 'jumps']\n",
      "5: ['the', 'quick', 'brown', 'fox', 'jumps', 'over']\n",
      "6: ['the', 'quick', 'brown', 'fox', 'jumps', 'over']\n",
      "7: ['the', 'quick', 'brown', 'fox', 'jumps', 'over', 'lazy']\n",
      "8: ['the', 'quick', 'brown', 'fox', 'jumps', 'over', 'lazy', 'dog']\n"
     ]
    }
   ],
   "source": [
    "output_layer_5 = transformer_block(output_layer_4, 5)"
   ]
  },
  {
   "cell_type": "code",
   "execution_count": 8,
   "id": "6e74d7b5",
   "metadata": {},
   "outputs": [
    {
     "name": "stdout",
     "output_type": "stream",
     "text": [
      "\n",
      "Layer 6 — Input:\n",
      "0: ['the']\n",
      "1: ['the', 'quick']\n",
      "2: ['the', 'quick', 'brown']\n",
      "3: ['the', 'quick', 'brown', 'fox']\n",
      "4: ['the', 'quick', 'brown', 'fox', 'jumps']\n",
      "5: ['the', 'quick', 'brown', 'fox', 'jumps', 'over']\n",
      "6: ['the', 'quick', 'brown', 'fox', 'jumps', 'over']\n",
      "7: ['the', 'quick', 'brown', 'fox', 'jumps', 'over', 'lazy']\n",
      "8: ['the', 'quick', 'brown', 'fox', 'jumps', 'over', 'lazy', 'dog']\n",
      "\n",
      "Layer 6 — Attention Scores:\n",
      "['the']\tNone\tNone\tNone\tNone\tNone\tNone\tNone\tNone\t\n",
      "['the', 'quick']\t['the', 'quick']\tNone\tNone\tNone\tNone\tNone\tNone\tNone\t\n",
      "['the', 'quick', 'brown']\t['the', 'quick', 'brown']\t['the', 'quick', 'brown']\tNone\tNone\tNone\tNone\tNone\tNone\t\n",
      "None\t['the', 'quick', 'brown', 'fox']\t['the', 'quick', 'brown', 'fox']\t['the', 'quick', 'brown', 'fox']\tNone\tNone\tNone\tNone\tNone\t\n",
      "None\tNone\t['the', 'quick', 'brown', 'fox', 'jumps']\t['the', 'quick', 'brown', 'fox', 'jumps']\t['the', 'quick', 'brown', 'fox', 'jumps']\tNone\tNone\tNone\tNone\t\n",
      "None\tNone\tNone\t['the', 'quick', 'brown', 'fox', 'jumps', 'over']\t['the', 'quick', 'brown', 'fox', 'jumps', 'over']\t['the', 'quick', 'brown', 'fox', 'jumps', 'over']\tNone\tNone\tNone\t\n",
      "None\tNone\tNone\tNone\t['the', 'quick', 'brown', 'fox', 'jumps', 'over']\t['the', 'quick', 'brown', 'fox', 'jumps', 'over']\t['the', 'quick', 'brown', 'fox', 'jumps', 'over']\tNone\tNone\t\n",
      "None\tNone\tNone\tNone\tNone\t['the', 'quick', 'brown', 'fox', 'jumps', 'over', 'lazy']\t['the', 'quick', 'brown', 'fox', 'jumps', 'over', 'lazy']\t['the', 'quick', 'brown', 'fox', 'jumps', 'over', 'lazy']\tNone\t\n",
      "None\tNone\tNone\tNone\tNone\tNone\t['the', 'quick', 'brown', 'fox', 'jumps', 'over', 'lazy', 'dog']\t['the', 'quick', 'brown', 'fox', 'jumps', 'over', 'lazy', 'dog']\t['the', 'quick', 'brown', 'fox', 'jumps', 'over', 'lazy', 'dog']\t\n",
      "\n",
      "Layer 6 — Output:\n",
      "0: ['the']\n",
      "1: ['the', 'quick']\n",
      "2: ['the', 'quick', 'brown']\n",
      "3: ['the', 'quick', 'brown', 'fox']\n",
      "4: ['the', 'quick', 'brown', 'fox', 'jumps']\n",
      "5: ['the', 'quick', 'brown', 'fox', 'jumps', 'over']\n",
      "6: ['the', 'quick', 'brown', 'fox', 'jumps', 'over']\n",
      "7: ['the', 'quick', 'brown', 'fox', 'jumps', 'over', 'lazy']\n",
      "8: ['the', 'quick', 'brown', 'fox', 'jumps', 'over', 'lazy', 'dog']\n"
     ]
    }
   ],
   "source": [
    "output_layer_6 = transformer_block(output_layer_5, 6)"
   ]
  },
  {
   "cell_type": "code",
   "execution_count": null,
   "id": "65894dc8",
   "metadata": {},
   "outputs": [],
   "source": []
  }
 ],
 "metadata": {
  "kernelspec": {
   "display_name": "Python 3",
   "language": "python",
   "name": "python3"
  },
  "language_info": {
   "codemirror_mode": {
    "name": "ipython",
    "version": 3
   },
   "file_extension": ".py",
   "mimetype": "text/x-python",
   "name": "python",
   "nbconvert_exporter": "python",
   "pygments_lexer": "ipython3",
   "version": "3.10.11"
  }
 },
 "nbformat": 4,
 "nbformat_minor": 5
}
